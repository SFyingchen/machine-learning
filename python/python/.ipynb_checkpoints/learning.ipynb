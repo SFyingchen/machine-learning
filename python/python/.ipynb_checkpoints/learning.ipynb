{
 "cells": [
  {
   "cell_type": "markdown",
   "id": "051c8ad5",
   "metadata": {},
   "source": [
    "##  python  是什么\n",
    "###  解释型语言  跨平台的特性较好  面向对象的\n",
    "###  强类型的动态脚本语言"
   ]
  },
  {
   "cell_type": "code",
   "execution_count": 1,
   "id": "3b4e085d",
   "metadata": {},
   "outputs": [
    {
     "name": "stdout",
     "output_type": "stream",
     "text": [
      "hello world\n"
     ]
    }
   ],
   "source": [
    "print(\"hello world\")"
   ]
  },
  {
   "cell_type": "markdown",
   "id": "e6e9ecf6",
   "metadata": {},
   "source": [
    "### bug/debug  \n",
    "#### 符号都是用英文模式下的\n",
    "#### 缩进错误\n",
    "#### 语法错误\n",
    "####  命名错误"
   ]
  },
  {
   "cell_type": "markdown",
   "id": "8034f899",
   "metadata": {},
   "source": [
    "### 注释\n",
    "####  单行注释用 #\n",
    "####  多行注释''' '''/  \"\"\" \"\"\""
   ]
  },
  {
   "cell_type": "markdown",
   "id": "c3d2403d",
   "metadata": {},
   "source": [
    "###  输出   print\n",
    "####    *value   \n",
    "####     sep=\"\"   设置输出的值用什么隔开\n",
    "####     end=\"\\n\"  设置什么结尾"
   ]
  },
  {
   "cell_type": "markdown",
   "id": "66464f40",
   "metadata": {},
   "source": [
    "### 变量 ---->用于保存数据\n",
    "#### python 中只有在赋值之后才会被创建\n",
    "###  标识符\n",
    "#### 标识符在()中不受影响"
   ]
  },
  {
   "cell_type": "markdown",
   "id": "022fc662",
   "metadata": {},
   "source": [
    "###  命名规范\n",
    "\n",
    "###  数值类型------type()  检测数据类型\n",
    "####  int  整形\n",
    "####  float 小数\n",
    "####  bool布尔型  True  False    必须大写   ---  可以当作整型   1    0    \n",
    "####  complex  复数型   虚数单位只能是j"
   ]
  },
  {
   "cell_type": "markdown",
   "id": "8cc119a2",
   "metadata": {},
   "source": [
    "###  字符串\n",
    "###   格式化输出\n",
    "####   占位符   %     "
   ]
  },
  {
   "cell_type": "code",
   "execution_count": 8,
   "id": "dbb8916f",
   "metadata": {},
   "outputs": [
    {
     "name": "stdout",
     "output_type": "stream",
     "text": [
      "我的名字: bingbning\n",
      "000000123\n",
      "1.111100\n",
      "我的名字是bingbning  123岁了\n"
     ]
    }
   ],
   "source": [
    "name =  \"bingbning\"\n",
    "print('我的名字: %s' % name)\n",
    "\n",
    "a=123\n",
    "print(\"%09d\" % a)\n",
    "\n",
    "b=1.1111   # 默认六位小数\n",
    "\n",
    "print(\"%f\" % b)\n",
    "\n",
    "print(f\"我的名字是{name}  {a}岁了\")"
   ]
  },
  {
   "cell_type": "markdown",
   "id": "bdb34dfb",
   "metadata": {},
   "source": [
    "###  算数运算符  \n",
    "####  /  计算结果是浮点数\n",
    "####  //  取整\n",
    "####  %   取余数\n",
    "####   **   m**n  m的n次方\n",
    "###   输入函数  input\n",
    "####  a = input (prompt)   ----- 提示\n",
    "###  转义字符    \\r   -----  移到当前行首   print(r'dfs\\sgf'）-----加 r  不转义"
   ]
  },
  {
   "cell_type": "markdown",
   "id": "f9698931",
   "metadata": {},
   "source": [
    "###  if判断   \n",
    "###  循环   break   continue----while 中一定要修改计数器"
   ]
  },
  {
   "cell_type": "code",
   "execution_count": 13,
   "id": "eed62a04",
   "metadata": {},
   "outputs": [
    {
     "name": "stdout",
     "output_type": "stream",
     "text": [
      "1 * 1 = 1\t\n",
      "2 * 1 = 2\t2 * 2 = 4\t\n",
      "3 * 1 = 3\t3 * 2 = 6\t3 * 3 = 9\t\n",
      "4 * 1 = 4\t4 * 2 = 8\t4 * 3 = 12\t4 * 4 = 16\t\n",
      "5 * 1 = 5\t5 * 2 = 10\t5 * 3 = 15\t5 * 4 = 20\t5 * 5 = 25\t\n",
      "6 * 1 = 6\t6 * 2 = 12\t6 * 3 = 18\t6 * 4 = 24\t6 * 5 = 30\t6 * 6 = 36\t\n",
      "7 * 1 = 7\t7 * 2 = 14\t7 * 3 = 21\t7 * 4 = 28\t7 * 5 = 35\t7 * 6 = 42\t7 * 7 = 49\t\n",
      "8 * 1 = 8\t8 * 2 = 16\t8 * 3 = 24\t8 * 4 = 32\t8 * 5 = 40\t8 * 6 = 48\t8 * 7 = 56\t8 * 8 = 64\t\n",
      "9 * 1 = 9\t9 * 2 = 18\t9 * 3 = 27\t9 * 4 = 36\t9 * 5 = 45\t9 * 6 = 54\t9 * 7 = 63\t9 * 8 = 72\t9 * 9 = 81\t\n"
     ]
    }
   ],
   "source": [
    "a = 1\n",
    "\n",
    "while a <= 9:\n",
    "    b = 1\n",
    "    while b<=a:\n",
    "        print(f\"{a} * {b} = {a*b}\",end=\"\\t\")\n",
    "        b += 1\n",
    "    print()\n",
    "    a += 1   "
   ]
  },
  {
   "cell_type": "code",
   "execution_count": 14,
   "id": "83a4fc02",
   "metadata": {},
   "outputs": [
    {
     "name": "stdout",
     "output_type": "stream",
     "text": [
      "5050\n"
     ]
    }
   ],
   "source": [
    "a = 0\n",
    "for i in range(1, 101):\n",
    "     a += i\n",
    "print(a)"
   ]
  },
  {
   "cell_type": "markdown",
   "id": "587a4e0b",
   "metadata": {},
   "source": [
    "###  字符串"
   ]
  }
 ],
 "metadata": {
  "kernelspec": {
   "display_name": "Python 3 (ipykernel)",
   "language": "python",
   "name": "python3"
  },
  "language_info": {
   "codemirror_mode": {
    "name": "ipython",
    "version": 3
   },
   "file_extension": ".py",
   "mimetype": "text/x-python",
   "name": "python",
   "nbconvert_exporter": "python",
   "pygments_lexer": "ipython3",
   "version": "3.11.5"
  }
 },
 "nbformat": 4,
 "nbformat_minor": 5
}
